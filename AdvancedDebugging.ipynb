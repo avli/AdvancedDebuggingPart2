{
 "cells": [
  {
   "cell_type": "markdown",
   "source": [
    "# Remote Debugging\n",
    "\n",
    "## Motivation\n",
    "\n",
    "## SSH interpreters\n",
    "\n",
    "## Docker interpreters\n",
    "\n",
    "## Python Remote Debug Run Configuration\n",
    "\n",
    "# How Python Debugger Works\n",
    "\n",
    "## Python Tracing API\n",
    "\n",
    "## Tracing Calls\n",
    "\n",
    "## Tracing Lines\n",
    "\n",
    "\n",
    "\n",
    "\n",
    "\n"
   ],
   "metadata": {
    "collapsed": false
   }
  }
 ],
 "metadata": {
  "kernelspec": {
   "display_name": "Python 3",
   "language": "python",
   "name": "python3"
  },
  "language_info": {
   "codemirror_mode": {
    "name": "ipython",
    "version": 2
   },
   "file_extension": ".py",
   "mimetype": "text/x-python",
   "name": "python",
   "nbconvert_exporter": "python",
   "pygments_lexer": "ipython2",
   "version": "2.7.6"
  },
  "pycharm": {
   "stem_cell": {
    "cell_type": "raw",
    "source": [],
    "metadata": {
     "collapsed": false
    }
   }
  }
 },
 "nbformat": 4,
 "nbformat_minor": 0
}