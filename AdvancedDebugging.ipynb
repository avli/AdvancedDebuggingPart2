{
 "cells": [
  {
   "cell_type": "markdown",
   "source": [
    "# Advanced Debugging with PyCharm\n",
    "\n",
    "### Webinar. Part 2\n",
    "\n",
    "January 2020\n",
    "\n",
    "# Remote Debugging\n",
    "\n",
    "The app is taken from: https://docs.djangoproject.com/en/3.0/intro/tutorial01/.\n",
    "\n",
    "## SSH interpreters\n",
    "\n",
    "1. Creating an SSH interpreter.\n",
    "2. \"Simple\" breakpoints.\n",
    "3. Template breakpoints.\n",
    "\n",
    "## Docker interpreters\n",
    "\n",
    "## Python Remote Debug Run Configuration\n",
    "\n",
    "1. Why you may need it?\n",
    "2. Setting up a Python Remote Debug run configuration.\n",
    "\n",
    "# How Python Debugger Works\n",
    "\n",
    "1. Python Tracing API\n",
    "2. Tracing Calls\n",
    "3. Tracing Lines\n"
   ],
   "metadata": {
    "collapsed": false
   }
  }
 ],
 "metadata": {
  "kernelspec": {
   "display_name": "Python 3",
   "language": "python",
   "name": "python3"
  },
  "language_info": {
   "codemirror_mode": {
    "name": "ipython",
    "version": 2
   },
   "file_extension": ".py",
   "mimetype": "text/x-python",
   "name": "python",
   "nbconvert_exporter": "python",
   "pygments_lexer": "ipython2",
   "version": "2.7.6"
  },
  "pycharm": {
   "stem_cell": {
    "cell_type": "raw",
    "source": [],
    "metadata": {
     "collapsed": false
    }
   }
  }
 },
 "nbformat": 4,
 "nbformat_minor": 0
}